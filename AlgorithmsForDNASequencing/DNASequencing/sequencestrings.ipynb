{
 "cells": [
  {
   "cell_type": "code",
   "execution_count": 43,
   "metadata": {},
   "outputs": [
    {
     "data": {
      "text/plain": [
       "'A DNA molecule is shaped like a double heelix, in which the rungs of the \\nladder are bases A,G,T,C where A double bonds T, G triple bonds C'"
      ]
     },
     "execution_count": 43,
     "metadata": {},
     "output_type": "execute_result"
    }
   ],
   "source": [
    "'''A DNA molecule is shaped like a double heelix, in which the rungs of the \n",
    "ladder are bases A,G,T,C where A double bonds T, G triple bonds C'''"
   ]
  },
  {
   "cell_type": "code",
   "execution_count": 44,
   "metadata": {},
   "outputs": [
    {
     "data": {
      "text/plain": [
       "'ACCA'"
      ]
     },
     "execution_count": 44,
     "metadata": {},
     "output_type": "execute_result"
    }
   ],
   "source": [
    "#checking for the longest common prefix \n",
    "\n",
    "def longestcommonprefix(str1, str2):\n",
    "    i = 0\n",
    "    while i< len(str1) and i<len(str2) and str1[i] == str2[i]:\n",
    "        i +=1\n",
    "    return str1[:i]\n",
    "\n",
    "longestcommonprefix('ACCATTG', 'ACCAAGTC')\n"
   ]
  },
  {
   "cell_type": "code",
   "execution_count": 45,
   "metadata": {},
   "outputs": [
    {
     "data": {
      "text/plain": [
       "True"
      ]
     },
     "execution_count": 45,
     "metadata": {},
     "output_type": "execute_result"
    }
   ],
   "source": [
    "#checking if two strings are equal \n",
    "\n",
    "def match(s1, s2):\n",
    "    if not len(s1) == len(s2):\n",
    "        return False\n",
    "    for i in range(0, len(s1)):\n",
    "        if not s1[i] == s2[i]:\n",
    "            return False\n",
    "    return True #once whole string is travesered, return true \n",
    "match('ACCATTG', 'ACCATTG')"
   ]
  },
  {
   "cell_type": "code",
   "execution_count": 46,
   "metadata": {},
   "outputs": [
    {
     "data": {
      "text/plain": [
       "'TGGTAAC'"
      ]
     },
     "execution_count": 46,
     "metadata": {},
     "output_type": "execute_result"
    }
   ],
   "source": [
    "#find the complement of a string \n",
    "def complement(s):\n",
    "    complement = {'A': 'T', 'C': 'G', 'G': 'C', 'T': 'A'} #dictionary \n",
    "    t = ''\n",
    "    for base in s:\n",
    "        t = complement[base] + t\n",
    "    t = t[::-1] #will give the string in reverse \n",
    "    return t\n",
    "complement('ACCATTG')"
   ]
  }
 ],
 "metadata": {
  "kernelspec": {
   "display_name": "Python 3",
   "language": "python",
   "name": "python3"
  },
  "language_info": {
   "codemirror_mode": {
    "name": "ipython",
    "version": 3
   },
   "file_extension": ".py",
   "mimetype": "text/x-python",
   "name": "python",
   "nbconvert_exporter": "python",
   "pygments_lexer": "ipython3",
   "version": "3.9.6"
  },
  "orig_nbformat": 4
 },
 "nbformat": 4,
 "nbformat_minor": 2
}
